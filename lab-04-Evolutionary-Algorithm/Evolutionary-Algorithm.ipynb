{
 "cells": [
  {
   "cell_type": "code",
   "execution_count": 1,
   "id": "f7815493-402e-498c-89e5-34ad6dc871ca",
   "metadata": {},
   "outputs": [],
   "source": [
    "import numpy as np\n",
    "import pandas as pd\n",
    "import matplotlib.pyplot as plt\n",
    "from openpyxl.drawing.image import Image\n",
    "from io import BytesIO\n",
    "from numba import njit"
   ]
  },
  {
   "cell_type": "code",
   "execution_count": 2,
   "id": "05299c65-8dab-4a41-959a-a1aa3801828b",
   "metadata": {},
   "outputs": [],
   "source": [
    "# Evaluation functions\n",
    "@njit\n",
    "def f1(pop):\n",
    "    return np.sum(pop ** 2, axis=1)\n",
    "\n",
    "@njit\n",
    "def f2(pop):\n",
    "    return np.sum(100 * (pop[:, 1:] - pop[:, :-1] ** 2) ** 2 + (1 - pop[:, :-1]) ** 2, axis=1)"
   ]
  },
  {
   "cell_type": "code",
   "execution_count": 3,
   "id": "183b7ee8-4798-47f1-a165-a126949d3cfa",
   "metadata": {},
   "outputs": [],
   "source": [
    "def initialize_population(pop_size, dimensions, domain, binary=False):\n",
    "    if binary:\n",
    "        return np.random.randint(2, size=(pop_size, dimensions * 16))  # Binary\n",
    "    return np.random.uniform(domain[0], domain[1], (pop_size, dimensions))"
   ]
  },
  {
   "cell_type": "code",
   "execution_count": 4,
   "id": "8ec7ad9d-76c3-46cc-97cf-8838e0f1d293",
   "metadata": {},
   "outputs": [],
   "source": [
    "def tournament_selection(pop, scores, k=3):\n",
    "    selected = np.random.choice(range(len(pop)), k)\n",
    "    best = selected[np.argmin([scores[i] for i in selected])]\n",
    "    return pop[best]"
   ]
  },
  {
   "cell_type": "code",
   "execution_count": 5,
   "id": "3edde94d-1cfa-4cd4-892c-4a8296712342",
   "metadata": {},
   "outputs": [],
   "source": [
    "def crossover(parent1, parent2, binary=False):\n",
    "    if binary:\n",
    "        point = np.random.randint(1, len(parent1) - 1)\n",
    "        child1 = np.concatenate((parent1[:point], parent2[point:]))\n",
    "        child2 = np.concatenate((parent2[:point], parent1[point:]))\n",
    "    else:\n",
    "        alpha = np.random.rand()\n",
    "        child1 = alpha * parent1 + (1 - alpha) * parent2\n",
    "        child2 = alpha * parent2 + (1 - alpha) * parent1\n",
    "    return child1, child2"
   ]
  },
  {
   "cell_type": "code",
   "execution_count": 6,
   "id": "cf008f4d-61e8-4282-9fae-d2262ab03646",
   "metadata": {},
   "outputs": [],
   "source": [
    "def mutate(individual, mutation_rate=0.01, binary=False, domain=(-5, 5)):\n",
    "    if binary:\n",
    "        for i in range(len(individual)):\n",
    "            if np.random.rand() < mutation_rate:\n",
    "                individual[i] = 1 - individual[i]\n",
    "    else:\n",
    "        individual += np.random.normal(0, 0.1, size=individual.shape)\n",
    "        individual = np.clip(individual, domain[0], domain[1])\n",
    "    return individual"
   ]
  },
  {
   "cell_type": "code",
   "execution_count": 7,
   "id": "1a7a581b-7db8-483e-ab35-3fb301ff21ab",
   "metadata": {},
   "outputs": [],
   "source": [
    "def evolutionary_algorithm(pop_size, dimensions, domain, generations, eval_func, binary=False):\n",
    "    pop = initialize_population(pop_size, dimensions, domain, binary)\n",
    "    best_scores = []\n",
    "    for _ in range(generations):\n",
    "        scores = eval_func(pop)\n",
    "        best_scores.append(np.min(scores))\n",
    "\n",
    "        new_pop = []\n",
    "        for _ in range(pop_size // 2):\n",
    "            parent1 = tournament_selection(pop, scores)\n",
    "            parent2 = tournament_selection(pop, scores)\n",
    "            child1, child2 = crossover(parent1, parent2, binary)\n",
    "            new_pop.append(mutate(child1, binary=binary, domain=domain))\n",
    "            new_pop.append(mutate(child2, binary=binary, domain=domain))\n",
    "        pop = np.array(new_pop)\n",
    "\n",
    "    return best_scores"
   ]
  },
  {
   "cell_type": "code",
   "execution_count": 8,
   "id": "b3fb9c2a-2a71-412e-9b8a-d46019a7cffc",
   "metadata": {},
   "outputs": [],
   "source": [
    "# Experiment configuration\n",
    "pop_size = 50\n",
    "dimensions = 10\n",
    "generations = 200\n",
    "binary = False\n",
    "domain_f1 = (-5.12, 5.12)\n",
    "domain_f2 = (-5, 10)"
   ]
  },
  {
   "cell_type": "code",
   "execution_count": 9,
   "id": "06f0082b-fe31-4f2c-95e9-6a803c704adc",
   "metadata": {},
   "outputs": [],
   "source": [
    "def run_experiments():\n",
    "    results = {}\n",
    "    # For F1 and real-valued representation\n",
    "    results['F1_real'] = [evolutionary_algorithm(pop_size, dimensions, domain_f1, generations, f1, binary=False) for _\n",
    "                          in range(100)]\n",
    "    # For F2 and real-valued representation\n",
    "    results['F2_real'] = [evolutionary_algorithm(pop_size, dimensions, domain_f2, generations, f2, binary=False) for _\n",
    "                          in range(100)]\n",
    "    # For F1 and binary representation\n",
    "    results['F1_binary'] = [evolutionary_algorithm(pop_size, dimensions, domain_f1, generations, f1, binary=True) for _\n",
    "                            in range(100)]\n",
    "    # For F2 and binary representation\n",
    "    results['F2_binary'] = [evolutionary_algorithm(pop_size, dimensions, domain_f2, generations, f2, binary=True) for _\n",
    "                            in range(100)]\n",
    "    return results"
   ]
  },
  {
   "cell_type": "code",
   "execution_count": 10,
   "id": "69fc1b25-802d-4ed3-9d97-0024bb417583",
   "metadata": {},
   "outputs": [],
   "source": [
    "def save_results_to_excel(results):\n",
    "    with pd.ExcelWriter(\"results.csv\", engine=\"openpyxl\") as writer:\n",
    "        for name, data in results.items():\n",
    "            # Convert results to a NumPy array\n",
    "            data = np.array(data)\n",
    "\n",
    "            # Raw data - save to sheet\n",
    "            df_raw = pd.DataFrame(data)\n",
    "            df_raw.to_excel(writer, sheet_name=f'{name}_raw', index=False)\n",
    "\n",
    "            # Mean of results - add chart\n",
    "            mean_data = np.mean(data, axis=0)\n",
    "            df_mean = pd.DataFrame(mean_data, columns=['Mean'])\n",
    "            df_mean.to_excel(writer, sheet_name=f'{name}_mean', index=False)\n",
    "\n",
    "            # Generate and save chart as image\n",
    "            plt.figure()\n",
    "            plt.plot(mean_data, label=f'Average Best Score ({name})')\n",
    "            plt.xlabel(\"Pokolenie\")\n",
    "            plt.ylabel(\"Wartość funkcji celu\")\n",
    "            plt.legend()\n",
    "            plt.title(f'Średnia wartość najlepszych wyników - {name}')\n",
    "\n",
    "            # Save chart to memory\n",
    "            img_data = BytesIO()\n",
    "            plt.savefig(img_data, format='png')\n",
    "            img_data.seek(0)\n",
    "            plt.close()\n",
    "\n",
    "            # Add chart to worksheet\n",
    "            workbook = writer.book\n",
    "            worksheet = workbook[f'{name}_mean']\n",
    "            img = Image(img_data)\n",
    "            worksheet.add_image(img, 'E5')"
   ]
  },
  {
   "cell_type": "code",
   "execution_count": 11,
   "id": "a363eedd-4e33-4fe3-a861-0acd77c2cf01",
   "metadata": {
    "scrolled": true
   },
   "outputs": [],
   "source": [
    "# Running experiments and saving results\n",
    "results = run_experiments()\n",
    "save_results_to_excel(results)"
   ]
  }
 ],
 "metadata": {
  "kernelspec": {
   "display_name": "Python 3 (ipykernel)",
   "language": "python",
   "name": "python3"
  },
  "language_info": {
   "codemirror_mode": {
    "name": "ipython",
    "version": 3
   },
   "file_extension": ".py",
   "mimetype": "text/x-python",
   "name": "python",
   "nbconvert_exporter": "python",
   "pygments_lexer": "ipython3",
   "version": "3.10.4"
  }
 },
 "nbformat": 4,
 "nbformat_minor": 5
}
