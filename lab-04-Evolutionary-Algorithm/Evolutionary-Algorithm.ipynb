{
 "cells": [
  {
   "cell_type": "code",
   "execution_count": 1,
   "id": "f7815493-402e-498c-89e5-34ad6dc871ca",
   "metadata": {},
   "outputs": [],
   "source": [
    "import numpy as np\n",
    "import pandas as pd\n",
    "import matplotlib.pyplot as plt\n",
    "from openpyxl.drawing.image import Image\n",
    "from io import BytesIO\n",
    "from math import sin, cos, exp, sqrt, pi"
   ]
  },
  {
   "cell_type": "code",
   "execution_count": 2,
   "id": "05299c65-8dab-4a41-959a-a1aa3801828b",
   "metadata": {},
   "outputs": [],
   "source": [
    "# Evaluation functions\n",
    "def f1(x):\n",
    "    return -5 / (1 + np.sum(x ** 2)) + sin(1 / np.tan(exp(-5 / (1 + np.sum(x ** 2)))))\n",
    "\n",
    "def f2(x, a=20, b=0.2, c=2 * pi):\n",
    "    n = len(x)\n",
    "    sum_sq_term = -a * exp(-b * sqrt(np.sum(x ** 2) / n))\n",
    "    cos_term = -exp(np.sum(np.cos(c * x)) / n)\n",
    "    return sum_sq_term + cos_term + a + exp(1)"
   ]
  },
  {
   "cell_type": "code",
   "execution_count": 3,
   "id": "b90ffa4c-be42-48fc-a4d8-573bbb681356",
   "metadata": {},
   "outputs": [],
   "source": [
    "def binary_to_real(binary_individual, domain, dimensions):\n",
    "    max_value = 2 ** 16 - 1  # Max val for 16 bits\n",
    "    real_individual = []\n",
    "    for i in range(dimensions):\n",
    "        binary_value = int(\"\".join(map(str, binary_individual[i*16:(i+1)*16])), 2)\n",
    "        real_value = domain[0] + (binary_value / max_value) * (domain[1] - domain[0])\n",
    "        real_individual.append(real_value)\n",
    "    return np.array(real_individual)"
   ]
  },
  {
   "cell_type": "code",
   "execution_count": 4,
   "id": "0b128f6e-a267-4429-a421-5cea6e035ebd",
   "metadata": {},
   "outputs": [],
   "source": [
    "def initialize_population(pop_size, dimensions, domain, binary=False):\n",
    "    if binary:\n",
    "        return np.random.randint(2, size=(pop_size, dimensions * 16))  # Binary\n",
    "    return np.random.uniform(domain[0], domain[1], (pop_size, dimensions)) # Decimal"
   ]
  },
  {
   "cell_type": "code",
   "execution_count": 5,
   "id": "60123833-ab7a-4fd5-a4c9-aa97871e9a0a",
   "metadata": {},
   "outputs": [],
   "source": [
    "def tournament_selection(pop, scores, k=3):\n",
    "    selected = np.random.choice(range(len(pop)), k)\n",
    "    best = selected[np.argmin([scores[i] for i in selected])]\n",
    "    return pop[best]"
   ]
  },
  {
   "cell_type": "code",
   "execution_count": 6,
   "id": "57735010-83b9-45ba-850a-793a129999d9",
   "metadata": {},
   "outputs": [],
   "source": [
    "def crossover(parent1, parent2, binary=False):\n",
    "    if binary:\n",
    "        point = np.random.randint(1, len(parent1) - 1)\n",
    "        child1 = np.concatenate((parent1[:point], parent2[point:]))\n",
    "        child2 = np.concatenate((parent2[:point], parent1[point:]))\n",
    "    else:\n",
    "        alpha = np.random.rand()\n",
    "        child1 = alpha * parent1 + (1 - alpha) * parent2\n",
    "        child2 = alpha * parent2 + (1 - alpha) * parent1\n",
    "    return child1, child2"
   ]
  },
  {
   "cell_type": "code",
   "execution_count": 7,
   "id": "88812ca5-4de4-4392-8be7-d0f21c87f7b0",
   "metadata": {},
   "outputs": [],
   "source": [
    "def mutate(individual, mutation_rate=0.01, binary=False, domain=(-5, 5)):\n",
    "    if binary:\n",
    "        for i in range(len(individual)):\n",
    "            if np.random.rand() < mutation_rate:\n",
    "                individual[i] = 1 - individual[i]\n",
    "    else:\n",
    "        individual += np.random.normal(0, 0.1, size=individual.shape)\n",
    "        individual = np.clip(individual, domain[0], domain[1])\n",
    "    return individual"
   ]
  },
  {
   "cell_type": "code",
   "execution_count": 8,
   "id": "88592d4b-4b82-46a2-ac70-ca81991c8fe7",
   "metadata": {},
   "outputs": [],
   "source": [
    "def evolutionary_algorithm(pop_size, dimensions, domain, generations, eval_func, binary=False, max_evaluations=10000):\n",
    "    pop = initialize_population(pop_size, dimensions, domain, binary)\n",
    "    scores = []\n",
    "    best_scores = []\n",
    "    eval_count = 0\n",
    "\n",
    "    while eval_count < max_evaluations:\n",
    "        # Decoding binary\n",
    "        if binary:\n",
    "            decoded_pop = [binary_to_real(ind, domain, dimensions) for ind in pop]\n",
    "            scores = np.array([eval_func(ind) for ind in decoded_pop])\n",
    "        else:\n",
    "            scores = np.array([eval_func(ind) for ind in pop])\n",
    "\n",
    "        best = np.min(scores)\n",
    "        best_scores.append(best)\n",
    "        eval_count += len(scores)\n",
    "\n",
    "        # Creating new population\n",
    "        new_pop = []\n",
    "        for _ in range(pop_size // 2):\n",
    "            parent1 = tournament_selection(pop, scores)\n",
    "            parent2 = tournament_selection(pop, scores)\n",
    "            child1, child2 = crossover(parent1, parent2, binary)\n",
    "            new_pop.append(mutate(child1, binary=binary, domain=domain))\n",
    "            new_pop.append(mutate(child2, binary=binary, domain=domain))\n",
    "        pop = np.array(new_pop)\n",
    "\n",
    "    return best_scores"
   ]
  },
  {
   "cell_type": "code",
   "execution_count": 9,
   "id": "ba9d83fb-cc56-4377-aaf8-d6824acc0dff",
   "metadata": {},
   "outputs": [],
   "source": [
    "def run_experiments():\n",
    "    results = {}\n",
    "    results['F1_real'] = [evolutionary_algorithm(pop_size, dimensions, domain_f1, generations, f1, binary=False) for _ in range(100)]\n",
    "    results['F2_real'] = [evolutionary_algorithm(pop_size, dimensions, domain_f2, generations, f2, binary=False) for _ in range(100)]\n",
    "    results['F1_binary'] = [evolutionary_algorithm(pop_size, dimensions, domain_f1, generations, f1, binary=True) for _ in range(100)]\n",
    "    results['F2_binary'] = [evolutionary_algorithm(pop_size, dimensions, domain_f2, generations, f2, binary=True) for _ in range(100)]\n",
    "    return results"
   ]
  },
  {
   "cell_type": "code",
   "execution_count": 10,
   "id": "69d6bb87-0f8a-4355-9a04-11843b587c89",
   "metadata": {},
   "outputs": [],
   "source": [
    "def save_results_to_excel(results):\n",
    "    with pd.ExcelWriter(\"results.xlsx\", engine=\"openpyxl\") as writer:\n",
    "        for name, data in results.items():\n",
    "            data = np.array(data)\n",
    "            df_raw = pd.DataFrame(data)\n",
    "            df_raw.to_excel(writer, sheet_name=f'{name}_raw', index=False)\n",
    "\n",
    "            mean_data = np.mean(data, axis=0)\n",
    "            df_mean = pd.DataFrame(mean_data, columns=['Mean'])\n",
    "            df_mean.to_excel(writer, sheet_name=f'{name}_mean', index=False)\n",
    "\n",
    "            plt.figure()\n",
    "            plt.plot(mean_data, label=f'Average Best Score ({name})')\n",
    "            plt.xlabel(\"Generation\")\n",
    "            plt.ylabel(\"Fitness\")\n",
    "            plt.legend()\n",
    "            plt.title(f'Average Best Scores - {name}')\n",
    "\n",
    "            img_data = BytesIO()\n",
    "            plt.savefig(img_data, format='png')\n",
    "            img_data.seek(0)\n",
    "            plt.close()\n",
    "\n",
    "            workbook = writer.book\n",
    "            worksheet = workbook[f'{name}_mean']\n",
    "            img = Image(img_data)\n",
    "            worksheet.add_image(img, 'E5')"
   ]
  },
  {
   "cell_type": "code",
   "execution_count": 11,
   "id": "1209945e-e474-4b05-a32e-33fce4a89c9d",
   "metadata": {},
   "outputs": [],
   "source": [
    "# Experiment variables and run\n",
    "pop_size = 50\n",
    "dimensions = 10\n",
    "domain_f1 = (-3, 3)\n",
    "domain_f2 = (-32.768, 32.768)\n",
    "generations = 200"
   ]
  },
  {
   "cell_type": "code",
   "execution_count": 12,
   "id": "fb2f92c5-83ef-495b-b57a-88330f39fd49",
   "metadata": {},
   "outputs": [],
   "source": [
    "results = run_experiments()"
   ]
  },
  {
   "cell_type": "code",
   "execution_count": 13,
   "id": "1432dfb9-f899-4760-b6da-2fc6c778de95",
   "metadata": {},
   "outputs": [],
   "source": [
    "save_results_to_excel(results)"
   ]
  }
 ],
 "metadata": {
  "kernelspec": {
   "display_name": "Python 3 (ipykernel)",
   "language": "python",
   "name": "python3"
  },
  "language_info": {
   "codemirror_mode": {
    "name": "ipython",
    "version": 3
   },
   "file_extension": ".py",
   "mimetype": "text/x-python",
   "name": "python",
   "nbconvert_exporter": "python",
   "pygments_lexer": "ipython3",
   "version": "3.10.4"
  }
 },
 "nbformat": 4,
 "nbformat_minor": 5
}
